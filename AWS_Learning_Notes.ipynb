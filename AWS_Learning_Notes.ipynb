{
 "cells": [
  {
   "cell_type": "markdown",
   "metadata": {},
   "source": [
    "<a id=index></a>\n",
    "# Index\n",
    "- <a href=#s3>S3</a>\n",
    "- <a href=#cloudfront>CloudFront</a>"
   ]
  },
  {
   "cell_type": "markdown",
   "metadata": {},
   "source": [
    "<a id=s3></a>\n",
    "## S3\n",
    "<a href=#index>Go to Index</a>"
   ]
  },
  {
   "cell_type": "markdown",
   "metadata": {},
   "source": [
    "### Generic info\n",
    "- ACL are used to control access to specific resources. Bucket policy applies to the whole bucket.\n",
    "- When a file is uploaded to S3, the browser gets a 200 response for a successful upload. \n",
    "- All objects are private by default\n",
    "- Min sized object on S3 is 0 bytes (eg: Delete marker)\n",
    "- 3 types of storage - Standard, IA (Infrequently accessed), Reduced Redundancy Storage\n",
    "- Can use client side or server side encryption. Server side encryption consists of 3 options -\n",
    "\t- S3 (SSE-S3)\n",
    "\t- KMS (SSE-KMS)\n",
    "\t- Customer provided keys (SSE-C)"
   ]
  },
  {
   "cell_type": "markdown",
   "metadata": {},
   "source": [
    "### Versioning\n",
    "- For a public file with versioning enabled, it will be made private in the new version. \n",
    "- Versioning cannot be removed (can be suspended)\n",
    "- Actually when you delete a file, it gets another version called 'delete marker'. If you delete the delete marker, the file gets restored.\n",
    "\n",
    "- The files only get removed when you got to versioning and remove the versions themselves\n",
    "- There is also an option to enable MFA for deleting files with versioning enabled."
   ]
  },
  {
   "cell_type": "markdown",
   "metadata": {},
   "source": [
    "### Cross Region Replication (CRR)\n",
    "- When CRR is newly introduced on a bucket, the existing objects are not automatically copied. New and updated objects are copied to the replication bucket. AWS CLI (s3 cp --recursive) can be used to copy all files from the primary to the replication bucket\n",
    "- Versioning must be enabled (source and target) for CRR\n",
    "- Src and target should be in different regions (Cross **Region** replication)\n",
    "- At this time, you cannot do replication to multiple buckets (daisy chaining is not supported at present)\n",
    "- Deleting files (delete marker) or deletion of individual versions are not replicated to the secondary buckets (this is an AWS security feature"
   ]
  },
  {
   "cell_type": "markdown",
   "metadata": {},
   "source": [
    "### Lifecycle rule\n",
    "- Main idea is to reduce cost\n",
    "- S3 can automatically move contents of a bucket (or folder or things with a spefied tags ) to S3-IA and later to S3 Glacier based on what we set in the Management>Lifecycle tab added as Lifecycle rule. - Can also be configured to permanently delete stuff at some point\n",
    "- To move to S3-IA requires a minimum of 30 days after creation and moving to Glacier requires 30 days after residing in IA or 60 days from creation\n",
    "- Can be done along with versioning."
   ]
  },
  {
   "cell_type": "markdown",
   "metadata": {},
   "source": [
    "### S3 Security & Encryption\n",
    "- By default all S3 objects are private"
   ]
  },
  {
   "cell_type": "markdown",
   "metadata": {},
   "source": [
    "<a id=cloudfront></a>\n",
    "## CloudFront\n",
    "<a href=#index>Go to Index</a>"
   ]
  },
  {
   "cell_type": "markdown",
   "metadata": {},
   "source": [
    "### Generic\n",
    "- CDN - Content Delivery Network. Something that enables faster content delivery of content if the geographical location of the requestor and requested content might otherwise cause delay in service.\n",
    "- Edge location (EL) is different from AWS region or AZ. Currently there are over 50 ELs. \n",
    "- Edge location takes content from origin. At this time origin can be \n",
    "\t- S3 bucket\n",
    "\t- EC2 instance\n",
    "\t- Elastic Load Balancer\n",
    "\t- Route53\n",
    "\t- Can also be an external source of the files\n",
    "- Distribution is the name given to the CDN which consists of a collection of Edge locations\n",
    "- When content is requested first time, it is fetched from origin and then cached in the EL. This is cached for a specified TTL (Time To Live)\n",
    "- There are two types of distribution\n",
    "\t- Web Distribution - Typically used for websites\n",
    "\t- RTMP - used for media streaming\n",
    "- Edge locations are **not read-only**. They can also be used for put operations and that object will then be written back to the origin.\n",
    "- You can clear the cached objects but you will be charged for it. The normal behavior is that the cached object will expire on its own after the specified TTL.\n",
    "- Specifics of setting up the CloudFront Distribution\n",
    "    - CloudFront uses an identity to access the S3 bucket (Origin Access Identity parameter in the CloudFront dist setup)\n",
    "    - In the setup, remember to 'Grant Read permissions on bucket' to 'yes'\n",
    "    - Allow HTTP and HTTPS(recommended for regular pages)\n",
    "    - TTL is an important design consideration (set based on how frequently the objects change)\n",
    "    - Pick the default SSL certificate so as to support HTTPS unless you can publish a certificate\n",
    "    - There is a feature called Restrictions - allows Geo-Restrictions using a Whitelist and a Blacklist. Blacklist allows global access and restricts to few entities. Whitelist only serves to the entities in the whitelist.\n",
    "    - \"Invalidation\" is the process of removing an object that is cached on CloudFront. Remember that this is to delete objects before TTL. *This costs money.*"
   ]
  }
 ],
 "metadata": {
  "kernelspec": {
   "display_name": "Python 3",
   "language": "python",
   "name": "python3"
  },
  "language_info": {
   "codemirror_mode": {
    "name": "ipython",
    "version": 3
   },
   "file_extension": ".py",
   "mimetype": "text/x-python",
   "name": "python",
   "nbconvert_exporter": "python",
   "pygments_lexer": "ipython3",
   "version": "3.6.4"
  }
 },
 "nbformat": 4,
 "nbformat_minor": 2
}
