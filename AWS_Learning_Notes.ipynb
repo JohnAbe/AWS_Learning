{
 "cells": [
  {
   "cell_type": "markdown",
   "metadata": {},
   "source": [
    "<a id=index></a>\n",
    "# Index\n",
    "- <a href=#s3>S3</a>\n",
    "- <a href=#cloudfront>CloudFront</a>\n",
    "- <a href=#ec2>EC2</a>"
   ]
  },
  {
   "cell_type": "markdown",
   "metadata": {},
   "source": [
    "<a id=s3></a>\n",
    "## S3\n",
    "<a href=#index>Go to Index</a>"
   ]
  },
  {
   "cell_type": "markdown",
   "metadata": {},
   "source": [
    "### Generic info\n",
    "- Object based storage (not block storage)\n",
    "- ACL are used to control access to specific resources. Bucket policy applies to the whole bucket.\n",
    "- When a file is uploaded to S3, the browser gets a 200 response for a successful upload. \n",
    "- All objects are private by default\n",
    "- Min sized object on S3 is 0 bytes (eg: Delete marker)\n",
    "- 3 types of storage - Standard, IA (Infrequently accessed), Reduced Redundancy Storage\n",
    "- Can use client side or server side encryption. Server side encryption consists of 3 options -\n",
    "\t- S3 (SSE-S3)\n",
    "\t- KMS (SSE-KMS)\n",
    "\t- Customer provided keys (SSE-C)\n",
    "- S3 Standard: 11 9s of durability and 4 9s of availability and can stand the loss of two facilities concurrently\n",
    "- S3 IA: Data that is infrequently retrieved but needs to be accessible quickly when needed. Cheaper than Standard but charged per retrieval\n",
    "- 'S3 One Zone - Infrequently Accessed' is replacing Reduced Redundancy Storage (RRS)\n",
    "    - For data that need not be stored in multiple AZ and is infrequently accessed\n",
    "    - Availability is 99.5%\n",
    "- Glacier: Is for data archival. 3 types of retrieval (decreasing order of cost, increasing order of time)\n",
    "    - Expedited\n",
    "    - Standard\n",
    "    - Bulk\n",
    "- S3 buckets can be configured to create access logs (can dump all logs to another bucket)\n",
    "- S3 uploads can get much faster if done as multi-part upload\n",
    "- Can have upto 100 buckets per account by default\n",
    "- Single operation upload to S3 works for files <5GB. Multi-part works for files from 5MB to 5TB."
   ]
  },
  {
   "cell_type": "markdown",
   "metadata": {},
   "source": [
    "### Consistency\n",
    "- Read after Write consistency for new object PUTS (instantaneous)\n",
    "- Eventual consistency for overwrite PUTS and DELETE actions (can take a little time to propagate)"
   ]
  },
  {
   "cell_type": "markdown",
   "metadata": {},
   "source": [
    "### Versioning\n",
    "- For a public file with versioning enabled, it will be made private in the new version. \n",
    "- Versioning cannot be removed (can be suspended)\n",
    "- Actually when you delete a file, it gets another version called 'delete marker'. If you delete the delete marker, the file gets restored.\n",
    "\n",
    "- The files only get removed when you got to versioning and remove the versions themselves\n",
    "- There is also an option to enable MFA for deleting files with versioning enabled."
   ]
  },
  {
   "cell_type": "markdown",
   "metadata": {},
   "source": [
    "### Cross Region Replication (CRR)\n",
    "- When CRR is newly introduced on a bucket, the existing objects are not automatically copied. New and updated objects are copied to the replication bucket. AWS CLI (s3 cp --recursive) can be used to copy all files from the primary to the replication bucket\n",
    "- Versioning must be enabled (source and target) for CRR\n",
    "- Src and target should be in different regions (Cross **Region** replication)\n",
    "- At this time, you cannot do replication to multiple buckets (daisy chaining is not supported at present)\n",
    "- Deleting files (delete marker) or deletion of individual versions are not replicated to the secondary buckets (this is an AWS security feature"
   ]
  },
  {
   "cell_type": "markdown",
   "metadata": {},
   "source": [
    "### Lifecycle rule\n",
    "- Main idea is to reduce cost\n",
    "- S3 can automatically move contents of a bucket (or folder or things with a spefied tags ) to S3-IA and later to S3 Glacier based on what we set in the Management>Lifecycle tab added as Lifecycle rule. - Can also be configured to permanently delete stuff at some point\n",
    "- To move to S3-IA requires a minimum of 30 days after creation and moving to Glacier requires 30 days after residing in IA or 60 days from creation\n",
    "- Can be done along with versioning."
   ]
  },
  {
   "cell_type": "markdown",
   "metadata": {},
   "source": [
    "### S3 Security & Encryption\n",
    "- By default all S3 objects are private\n",
    "- Use SSL/TLS (https) for encryption during transit\n",
    "- At rest use one of three server side encryption options \n",
    "    - S3 Managed Keys (SSE-S3)\n",
    "    - S3 KMS (charges you, tells you who is decrypting what when)\n",
    "    - Customer provided key (SSE-C). You handle the keys\n",
    "- Can also choose to do client side encryption"
   ]
  },
  {
   "cell_type": "markdown",
   "metadata": {},
   "source": [
    "### Storage Gateway\n",
    "Is a service that connects local on-prem IT network with a cloud storage for scalable and cost-effective storage. It can connect to the on-prem storage and automatically replicate things on to S3 or S3 Glacier.\n",
    "\n",
    "There are 4 types of storage gateways -\n",
    "1. File Gateway (NFS) - for media files, flat files, etc.. stored directly on S3\n",
    "2. Volume Gateways (iSCSI):  for block based storage. Think of these as a connection to harddisks(disk **volumes**). Data written to these disk volumes can be backed up using EBS. These can be used to save system snapshots. These snapshots are incremental (only changes get captured). Snapshot storage is also compressed to minimize storage costs.\n",
    "    - Stored Volumes: Entire dataset is stored on site and is asynchronously backed up to S3\n",
    "    - Cached Volumes: Entire data is stored on S3 and most frequently accessed data is cached on site\n",
    "3. Virtual Tape Library Gateway (VTL): Used for backup. Uses popular applications like NetBackup, Backup exec, Veenam etc.\n",
    "    "
   ]
  },
  {
   "cell_type": "markdown",
   "metadata": {},
   "source": [
    "### Snowball\n",
    "\n",
    "Legacy option was Import/Export Disk (portable disks) that Amazon allowed for large scale data transfer. \n",
    "\n",
    "Snowball can import to and export from **S3**.\n",
    "- Snowball: 256 AES encryption, tamper proof, multiple layer security, trusted platform module. comes with a kindle to track the device. Software erase after each transfer (so that no one can retrieve data from it)\n",
    "- Snowball Edge: like Snowball, but also has compute capacity. Eg: Airline manufacturer can place this device in a test flight plane for data capture. Like an mobile AWS datacenter in a box.\n",
    "- Snowmobile: Petabytes or exabytes of data. Truck trailer. Even a complete datacenter migration."
   ]
  },
  {
   "cell_type": "markdown",
   "metadata": {},
   "source": [
    "### S3 Transfer Acceleration\n",
    "Instead of uploading drectly to an S3 bucket in some region directly, upload to an edge location that is close to you.\n",
    "\n",
    "Within S3 Properties>Transfer acceleration. Provides a new endpoint."
   ]
  },
  {
   "cell_type": "markdown",
   "metadata": {},
   "source": [
    "### S3 Static Website Hosting\n",
    "- The public endpoing follows a specific format \"<bucket-name>-s3-website-<region>-amazonaws.com\"\n",
    "- Use bucket policy to make entire S3 bucket public\n",
    "- S3 scales automatically to meet demand for the website\n"
   ]
  },
  {
   "cell_type": "markdown",
   "metadata": {},
   "source": [
    "<a id=cloudfront></a>\n",
    "## CloudFront\n",
    "<a href=#index>Go to Index</a>"
   ]
  },
  {
   "cell_type": "markdown",
   "metadata": {},
   "source": [
    "### Generic\n",
    "- CDN - Content Delivery Network. Something that enables faster content delivery of content if the geographical location of the requestor and requested content might otherwise cause delay in service.\n",
    "- Edge location (EL) is different from AWS region or AZ. Currently there are over 50 ELs. \n",
    "- Edge location takes content from origin. At this time origin can be \n",
    "\t- S3 bucket\n",
    "\t- EC2 instance\n",
    "\t- Elastic Load Balancer\n",
    "\t- Route53\n",
    "\t- Can also be an external source of the files\n",
    "- Distribution is the name given to the CDN which consists of a collection of Edge locations\n",
    "- When content is requested first time, it is fetched from origin and then cached in the EL. This is cached for a specified TTL (Time To Live)\n",
    "- There are two types of distribution\n",
    "\t- Web Distribution - Typically used for websites\n",
    "\t- RTMP - used for media streaming\n",
    "- Edge locations are **not read-only**. They can also be used for put operations and that object will then be written back to the origin.\n",
    "- You can clear the cached objects but you will be charged for it. The normal behavior is that the cached object will expire on its own after the specified TTL.\n",
    "- Specifics of setting up the CloudFront Distribution\n",
    "    - CloudFront uses an identity to access the S3 bucket (Origin Access Identity parameter in the CloudFront dist setup)\n",
    "    - In the setup, remember to 'Grant Read permissions on bucket' to 'yes'\n",
    "    - Allow HTTP and HTTPS(recommended for regular pages)\n",
    "    - TTL is an important design consideration (set based on how frequently the objects change)\n",
    "    - Pick the default SSL certificate so as to support HTTPS unless you can publish a certificate\n",
    "    - There is a feature called Restrictions - allows Geo-Restrictions using a Whitelist and a Blacklist. Blacklist allows global access and restricts to few entities. Whitelist only serves to the entities in the whitelist.\n",
    "    - \"Invalidation\" is the process of removing an object that is cached on CloudFront. Remember that this is to delete objects before TTL. *This costs money.*"
   ]
  },
  {
   "cell_type": "markdown",
   "metadata": {},
   "source": [
    "<a id=\"ec2\">\n",
    "# EC2: Elastic Cloud Compute\n",
    "<a href=\"#index\">Back to Index</a>"
   ]
  },
  {
   "cell_type": "markdown",
   "metadata": {},
   "source": [
    "Provides resizeable compute capacity in the cloud: \n",
    "    - can scale up and down (increase/decrese capacity by starting new instances in minutes)\n",
    "    - can scale out (Elastic load balancer)\n",
    "    \n",
    "EC2 can be provisioned -\n",
    "- On Demand: \n",
    "    - Pay fixed rate by the hour - Windows (or by the second - Linux)\n",
    "    - Good for temporary needs (Dev)\n",
    "- Reserved instances: \n",
    "    - Contracts with Amazon 1 or 3 year contracts. Significant dicount (75% off of on-demand prices)\n",
    "    - Great for predictible usage\n",
    "        - Standard RIs (upto 70% off on-demand)\n",
    "        - Convertible RIs (upto 54% off on-demand) allow you to change the attributes of the RIs as long as it creates instances of equal or higher value\n",
    "        - Scheduled RIs: good for a known pattern in demand/requests.\n",
    "- Spot Instances: \n",
    "    - By at a price that you are comfortable with (like a market)\n",
    "    - Flexible start and end price\n",
    "    - Applications that are only feasible at low compute prices\n",
    "    - If Spot instance is terminated by Amazon EC2, you will not be charged for a partial hour of usage. However, if you terminate the instance yourself, you will be charged for the complete hour in which the instance ran.\n",
    "- Dedicated Hosts: \n",
    "    - A physical machine for you. Eg: If your license is attached to a mac id, you can use it on cloud by hosting it in a Dedicated host. \n",
    "    - It could be because of regulatory requirements too\n",
    "    - Can be purchased on-demand and can also be reserved (upto 70% off on-demand price)\n",
    "\n",
    "Pneumonic to remember all instance types: FIGHT DR.Mc PX. There are instances that star with all these letters. Think Edward Norton fights (Fight) Dr. McDonald (Dr.Mc) who is from Scotland and hands out pictures (PX) of Scotlant"
   ]
  },
  {
   "cell_type": "markdown",
   "metadata": {},
   "source": [
    "### EBS\n",
    "Elastic Block Storage. If EC2 are servers online, EBS are disks online. EBS is placed in a specific AZ and replicated within that AZ.\n",
    "Comes in different kinds - \n",
    "    - General purpose SSD (GP2): \n",
    "        - balances price and performance\n",
    "        - speed of 3 to 10k IOPS per GB. And the ability to burst upto 3000 IOPS for extended periods of time for volumes 3334 GB and above\n",
    "   - Provisioned SSD IOPS:\n",
    "       - For I/O intensive applications like large relational or NoSQL databases\n",
    "       - if you need more than 10,000 IOPS\n",
    "       - Can provision up to 20,000 IOPS\n",
    "   - Throughput Optimized HDD (ST1) (magnetic disk):\n",
    "       - Cannot be boot volume. Can only be additional volumes (eg: cannot be C drive in Windows)\n",
    "       - Good for big data, data warehousing, log processing etc\n",
    "   - Cold HDD (SC1) (magnetic disk)\n",
    "       - Lowest cost for infrequently accessed workloads\n",
    "       - File server\n",
    "       - Cannot be boot volume\n",
    "   - Magnetic (Standard) (legacy):\n",
    "       - Lowest cost per GB of all EBS bootable vol types\n",
    "       - Ideal for worlkoads where data is accessed infrequently\n",
    "       - For applications where the lowest storage cost is important\n"
   ]
  },
  {
   "cell_type": "markdown",
   "metadata": {},
   "source": [
    "### EC2 Hands-on session\n",
    "- Tenancy is the property that enables you to use a dedicated host or a shared host\n",
    "- Remember that one Subnet (within a VPC) falls in one AZ\n",
    "- Monitoring property during EC2 allows for detailed monitoring (RAM, CPU utilzation etc. every 1 min). Default is to track these every 5 mins\n",
    "- Delete on Termination is the default behavior for EBS volumens attached to EC2 instances\n",
    "- There are two checks that are listed on EC2 console\n",
    "    - System status check: Ensures network connectivity to the instance is working fine. This is equivalent to checking that the Hypervisor level things are working alright\n",
    "    - Instance status check: Ensures the OS is able to receive packages \n",
    "    \n",
    "- By default, the root volume cannot be encrypted. It can be encrypted by creating a copy and encrypting it and being used as root volume.\n",
    "- Termination protection is turned off by default\n",
    "- On EBS backed instance, the default action is for the root EBS volume to be deleted when instance is terminated\n",
    "- EBS root volumes of your default AMIs cannot be encrypted. Can use a third party tool such as bit locker to encrypt root volumes. \n",
    "- Additional EBS volumes can be encrypted\n",
    "- Terminated instances will be visible in the list of instances for 1 hour after termination\n",
    "    "
   ]
  },
  {
   "cell_type": "markdown",
   "metadata": {},
   "source": [
    "### Security Groups\n",
    "- Any change that is made to an SG takes effect immediately\n",
    "- SGs are STATEFUL (in contrast with a Network Access Control list). Meaning if you allow inbound rules, then those will also receive outbound traffic even if there are no rules mentioned in the outbound section of the SG.\n",
    "- You cannot deny access of specific kind or for a specific IP address using SGs. You can only 'allow' using SGs. There are no inbound rules by default\n",
    "- All outbound traffic is allowed by default\n",
    "- Can attach multiple SGs to an instance\n",
    "- Can have any number of EC2 instances within an SG\n",
    "\n",
    "### EBS volumes\n",
    "- EBS volumes have to be in the same AZ as the EC2 instance\n",
    "- To make a copy of EBS in a different AZ, make a snapshot and create volume in required AZ using snapshot\n",
    "- Use the Actions>Copy option to create the instance in another Region\n",
    "- Except 'Standard' (primitive magnetic), all other volumes type and sizes can be edited after creation. No associated downtime\n",
    "- EBS Snapshots are created for backups and EBS images are used to clone EC2 instances\n",
    "- Root volume is deleted when EC2 instance is terminated. Other EBS volumes are not terminated\n",
    "- Can take snapshots when instance is running except if you're taking snapshots of EBS volumes that serve as root volumes\n",
    "- Snapshot of encrypted volumes are encrypted. Volumes restored from encrypted snapshots are encrypted. \n",
    "- Only snapshots of unencrypted snapshots can be shared publicly\n",
    "\n",
    "Volumes exist on EBS. Snapshots exist on S3. Snapshots are incremental (only changes from last snapshot are captured)\n",
    "\n",
    "### AMI \n",
    "AMI is selected based on \n",
    "- Region\n",
    "- OS\n",
    "- Architecture\n",
    "- Launch Permissions\n",
    "- Storage for the Root Device\n",
    "- Storage for Root Device - Instance Store (Ephemeral Storage) or EBS backed volumes\n",
    "    - Remember that instance store cannot have 'start'/'stop' but EBS backed has these. When they are started after being stopped, it starts in a different hypervisor\n",
    "    - Instance store backed instances will lose data if the underlying host fails\n",
    "    - EBS volumes can be detached from one instance and attached to another. This cannot be done for Instance based volumes\n",
    "    - Both types can be rebooted without loss of data\n",
    "    \n",
    "### Elastic Load Balancer\n",
    "Come in 3 types - \n",
    "- Application load balancer: Very advanced, can send specific request to specific web servers, work at layer 7 of TCP model\n",
    "- Network load balancer: For extreme performance, works at connection layer (layer 4). Can handle millions of requests per sec with ultra low latency\n",
    "- Classic load balancer: These are legacy load balancers (what are meant when Elastic Load Balancer is mentioned). Can balance HTTP/HTTPS requests and also use layer-7 specific features (X-forwarded-For and sticky sessions). Can also use strict layer 4 LB for applications that rely strictly on TCP protocol. \n",
    "\n",
    "X-Forwarded-For header can be used to pass the public ip (IPv4) of the requester to the EC2 instance from the ELB\n",
    "\n",
    "If the application stops responding ELB responds with Error code 504 (Gateway Timed Out). Could be because the Web Server or the Database Server failed\n",
    "\n",
    "ELBs do healthchecks for EC2 instances and keeps track of \"InService\" or \"OutOfService\"\n",
    "\n",
    "### Cloudwatch\n",
    "Can be used to monitor components and also set alarms to notify about events of interest\n",
    "- Standard monitoring: 5 mins\n",
    "- Detailed monitoring: 1 mins\n",
    "\n",
    "**Remember that Cloudwatch is for monitoring and CloudTrail is for audit. CloudTrail captures everything that happens within the AWS account**"
   ]
  }
 ],
 "metadata": {
  "kernelspec": {
   "display_name": "Python 3",
   "language": "python",
   "name": "python3"
  },
  "language_info": {
   "codemirror_mode": {
    "name": "ipython",
    "version": 3
   },
   "file_extension": ".py",
   "mimetype": "text/x-python",
   "name": "python",
   "nbconvert_exporter": "python",
   "pygments_lexer": "ipython3",
   "version": "3.7.0"
  }
 },
 "nbformat": 4,
 "nbformat_minor": 2
}
